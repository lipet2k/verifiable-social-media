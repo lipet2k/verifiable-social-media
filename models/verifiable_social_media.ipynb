{
  "cells": [
    {
      "cell_type": "markdown",
      "metadata": {
        "id": "4D4fztd5AE2t"
      },
      "source": [
        "##Import Neural Network Dependencies"
      ]
    },
    {
      "cell_type": "code",
      "execution_count": 119,
      "metadata": {
        "id": "eat74fhO_o8g"
      },
      "outputs": [],
      "source": [
        "import pandas as pd\n",
        "from sklearn.model_selection import train_test_split\n",
        "from sklearn.metrics import accuracy_score, precision_score, recall_score\n",
        "from sklearn.feature_extraction.text import CountVectorizer\n",
        "from sklearn.feature_extraction import DictVectorizer\n",
        "from sklearn.linear_model import LogisticRegression\n",
        "import numpy as np\n",
        "import torch\n",
        "import torch.nn as nn\n",
        "import torch.nn.functional as F\n",
        "from torch.autograd import Variable\n",
        "import tqdm\n",
        "import re"
      ]
    },
    {
      "cell_type": "markdown",
      "metadata": {
        "id": "aoYokl8TqGSG"
      },
      "source": [
        "##Import Plotting Libraries"
      ]
    },
    {
      "cell_type": "code",
      "execution_count": 120,
      "metadata": {
        "id": "uk4sxUc5p-a5"
      },
      "outputs": [],
      "source": [
        "import seaborn as sns\n",
        "import matplotlib.pyplot as plt"
      ]
    },
    {
      "cell_type": "markdown",
      "metadata": {
        "id": "bPIGkegkqJSh"
      },
      "source": [
        "##Import NLP Libraries"
      ]
    },
    {
      "cell_type": "code",
      "execution_count": 121,
      "metadata": {
        "colab": {
          "base_uri": "https://localhost:8080/"
        },
        "id": "ibLt_Mk4qN1h",
        "outputId": "c51a8019-8d82-4d44-de4e-2a5e2ba8b872"
      },
      "outputs": [
        {
          "output_type": "stream",
          "name": "stderr",
          "text": [
            "[nltk_data] Downloading package stopwords to /root/nltk_data...\n",
            "[nltk_data]   Package stopwords is already up-to-date!\n",
            "[nltk_data] Downloading package punkt to /root/nltk_data...\n",
            "[nltk_data]   Package punkt is already up-to-date!\n",
            "[nltk_data] Downloading package wordnet to /root/nltk_data...\n",
            "[nltk_data]   Package wordnet is already up-to-date!\n"
          ]
        }
      ],
      "source": [
        "import nltk\n",
        "nltk.download('stopwords')\n",
        "nltk.download('punkt')\n",
        "nltk.download('wordnet')\n",
        "from nltk.tokenize import TweetTokenizer"
      ]
    },
    {
      "cell_type": "markdown",
      "metadata": {
        "id": "Z8lUrISHtFHt"
      },
      "source": [
        "## Import Zero Knowledge"
      ]
    },
    {
      "cell_type": "code",
      "execution_count": 122,
      "metadata": {
        "id": "l4tT77z3tEVb"
      },
      "outputs": [],
      "source": [
        "# check if notebook is in colab\n",
        "try:\n",
        "    import google.colab\n",
        "    import subprocess\n",
        "    import sys\n",
        "    subprocess.check_call([sys.executable, \"-m\", \"pip\", \"install\", \"ezkl\"])\n",
        "    subprocess.check_call([sys.executable, \"-m\", \"pip\", \"install\", \"onnx\"])\n",
        "\n",
        "# rely on local installation of ezkl if the notebook is not in colab\n",
        "except:\n",
        "    pass\n",
        "\n",
        "import os\n",
        "import json\n",
        "import ezkl"
      ]
    },
    {
      "cell_type": "code",
      "execution_count": 123,
      "metadata": {
        "id": "s5GSczMgtIgs"
      },
      "outputs": [],
      "source": [
        "# Specify all the files we need\n",
        "\n",
        "model_path = os.path.join('network.onnx')\n",
        "compiled_model_path = os.path.join('network.ezkl')\n",
        "pk_path = os.path.join('test.pk')\n",
        "vk_path = os.path.join('test.vk')\n",
        "settings_path = os.path.join('settings.json')\n",
        "srs_path = os.path.join('kzg.srs')\n",
        "witness_path = os.path.join('witness.json')\n",
        "data_path = os.path.join('input.json')\n",
        "cal_data_path = os.path.join('cal_data.json')"
      ]
    },
    {
      "cell_type": "code",
      "execution_count": 124,
      "metadata": {
        "colab": {
          "base_uri": "https://localhost:8080/"
        },
        "id": "pyTBcR1socTH",
        "outputId": "a48830bc-2001-4ef6-f201-e9090b3599f5"
      },
      "outputs": [
        {
          "output_type": "stream",
          "name": "stdout",
          "text": [
            "--2023-09-24 04:16:51--  https://raw.githubusercontent.com/lipet2k/verifiable-social-media/main/security_dataset/github_data_UTF.csv\n",
            "Resolving raw.githubusercontent.com (raw.githubusercontent.com)... 185.199.108.133, 185.199.109.133, 185.199.110.133, ...\n",
            "Connecting to raw.githubusercontent.com (raw.githubusercontent.com)|185.199.108.133|:443... connected.\n",
            "HTTP request sent, awaiting response... 200 OK\n",
            "Length: 5773419 (5.5M) [text/plain]\n",
            "Saving to: ‘bot_detection_data.csv’\n",
            "\n",
            "bot_detection_data. 100%[===================>]   5.51M  --.-KB/s    in 0.02s   \n",
            "\n",
            "2023-09-24 04:16:52 (268 MB/s) - ‘bot_detection_data.csv’ saved [5773419/5773419]\n",
            "\n"
          ]
        }
      ],
      "source": [
        "!wget https://raw.githubusercontent.com/lipet2k/verifiable-social-media/main/security_dataset/github_data_UTF.csv -O bot_detection_data.csv\n",
        "\n",
        "file_path = 'bot_detection_data.csv'"
      ]
    },
    {
      "cell_type": "code",
      "execution_count": 125,
      "metadata": {
        "colab": {
          "base_uri": "https://localhost:8080/"
        },
        "id": "YvtO_QqzALrZ",
        "outputId": "16674e77-4923-4c5a-d5e4-39cb76f6816a"
      },
      "outputs": [
        {
          "output_type": "stream",
          "name": "stdout",
          "text": [
            "             id                id_str       screen_name  \\\n",
            "0  8.160000e+17  \"815745789754417152\"  \"HoustonPokeMap\"   \n",
            "1  4.843621e+09            4843621225         kernyeahx   \n",
            "2  4.303727e+09            4303727112   mattlieberisbot   \n",
            "3  3.063139e+09            3063139353         sc_papers   \n",
            "4  2.955142e+09            2955142070      lucarivera16   \n",
            "\n",
            "                    location  \\\n",
            "0              \"Houston, TX\"   \n",
            "1  Templeville town, MD, USA   \n",
            "2                        NaN   \n",
            "3                        NaN   \n",
            "4      Dublin, United States   \n",
            "\n",
            "                                         description  \\\n",
            "0  \"Rare and strong PokŽmon in Houston, TX. See m...   \n",
            "1  From late 2014 Socium Marketplace will make sh...   \n",
            "2  Inspired by the smart, funny folks at @replyal...   \n",
            "3                                                NaN   \n",
            "4             Inspiring cooks everywhere since 1956.   \n",
            "\n",
            "                         url  followers_count  friends_count  listed_count  \\\n",
            "0  \"https://t.co/dnWuDbFRkt\"             1291              0            10   \n",
            "1                        NaN                1            349             0   \n",
            "2    https://t.co/P1e1o0m4KC             1086              0            14   \n",
            "3                        NaN               33              0             8   \n",
            "4                        NaN               11            745             0   \n",
            "\n",
            "                         created_at  favourites_count  verified  \\\n",
            "0  \"Mon Jan 02 02:25:26 +0000 2017\"                 0     False   \n",
            "1                     2/1/2016 7:37                38     False   \n",
            "2    Fri Nov 20 18:53:22 +0000 2015                 0     False   \n",
            "3                   2/25/2015 20:11                 0     False   \n",
            "4                    1/1/2015 17:44               146     False   \n",
            "\n",
            "   statuses_count  lang                                             status  \\\n",
            "0           78554  \"en\"  {\\r      \"created_at\": \"Sun Mar 12 15:44:04 +0...   \n",
            "1              31    en                                                NaN   \n",
            "2             713    en  {'retweeted': False, 'is_quote_status': False,...   \n",
            "3             676    en  Construction of human anti-tetanus single-chai...   \n",
            "4             185    en                                                NaN   \n",
            "\n",
            "   default_profile  default_profile_image has_extended_profile  \\\n",
            "0             True                  False                False   \n",
            "1             True                  False                False   \n",
            "2             True                  False                False   \n",
            "3             True                   True                False   \n",
            "4            False                  False                False   \n",
            "\n",
            "                   name  bot  \n",
            "0  \"Houston PokŽ Alert\"    1  \n",
            "1           Keri Nelson    1  \n",
            "2    Matt Lieber Is Bot    1  \n",
            "3    single cell papers    1  \n",
            "4          lucarivera16    1  \n"
          ]
        }
      ],
      "source": [
        "# Read in csv file + Remove uncessary columns\n",
        "\n",
        "df_data = pd.read_csv(file_path)\n",
        "df_data = df_data.iloc[:13500000]\n",
        "print(df_data.head())"
      ]
    },
    {
      "cell_type": "markdown",
      "metadata": {
        "id": "CD_eSN7KssFf"
      },
      "source": [
        "##Clean and Tokenize text"
      ]
    },
    {
      "cell_type": "code",
      "execution_count": 126,
      "metadata": {
        "id": "DBgEnYsCpxQW"
      },
      "outputs": [],
      "source": [
        "tk = TweetTokenizer()\n",
        "\n",
        "def clean_text(text):\n",
        "  if type(text) is str:\n",
        "    text = tk.tokenize(text)\n",
        "    return ' '.join(text)\n",
        "  return \"\""
      ]
    },
    {
      "cell_type": "code",
      "execution_count": 127,
      "metadata": {
        "colab": {
          "base_uri": "https://localhost:8080/"
        },
        "id": "MDBdzaBlrgvO",
        "outputId": "e59d6d24-be5f-4d64-a022-f0236692028e"
      },
      "outputs": [
        {
          "output_type": "stream",
          "name": "stdout",
          "text": [
            "\" Rare and strong PokŽmon in Houston , TX . See more PokŽmon at https://t.co/dnWuDbFRkt \"\n"
          ]
        }
      ],
      "source": [
        "df_tokenized = df_data['description'].apply(clean_text)\n",
        "df_usernames = df_data['screen_name']\n",
        "\n",
        "for i in range(len(df_tokenized)):\n",
        "  user_name = df_usernames[i]\n",
        "  # hash_tags = df_hashtags[i]\n",
        "  tweet_array = df_tokenized[i]\n",
        "  tweet_array.join(' ' + user_name)\n",
        "  # if type(hash_tags) is not float:\n",
        "  #   string_tags = ' '.join(hash_tags)\n",
        "  #   tweet_array.join(string_tags)\n",
        "print(df_tokenized.head()[0])"
      ]
    },
    {
      "cell_type": "code",
      "execution_count": 128,
      "metadata": {
        "colab": {
          "base_uri": "https://localhost:8080/"
        },
        "id": "gQpEueppyYpq",
        "outputId": "830d5804-3a5f-4348-b960-9b9111da0772"
      },
      "outputs": [
        {
          "output_type": "stream",
          "name": "stdout",
          "text": [
            "2660    0\n",
            "2621    0\n",
            "2637    0\n",
            "150     1\n",
            "607     1\n",
            "       ..\n",
            "1646    0\n",
            "1859    0\n",
            "1279    1\n",
            "1250    1\n",
            "2205    0\n",
            "Name: bot, Length: 1957, dtype: int64\n",
            "1042    1\n",
            "1886    0\n",
            "2468    0\n",
            "1509    0\n",
            "430     1\n",
            "       ..\n",
            "2100    0\n",
            "1684    0\n",
            "1579    0\n",
            "1037    1\n",
            "2311    0\n",
            "Name: bot, Length: 840, dtype: int64\n"
          ]
        }
      ],
      "source": [
        "X_train, X_test, y_train, y_test = train_test_split(df_tokenized, df_data['bot'], test_size=0.3, random_state=125)\n",
        "\n",
        "print(y_train)\n",
        "print(y_test)"
      ]
    },
    {
      "cell_type": "markdown",
      "source": [
        "## Naive Bayes"
      ],
      "metadata": {
        "id": "qHjitzRCtFaW"
      }
    },
    {
      "cell_type": "code",
      "execution_count": 129,
      "metadata": {
        "colab": {
          "base_uri": "https://localhost:8080/"
        },
        "id": "ZhBczky3z1ai",
        "outputId": "ec72ace3-de96-442d-bfed-c35f3a2da159"
      },
      "outputs": [
        {
          "output_type": "stream",
          "name": "stdout",
          "text": [
            "Training score: 0.7020950434338273\n",
            "Testing score: 0.7119047619047619\n"
          ]
        }
      ],
      "source": [
        "from sklearn.naive_bayes import MultinomialNB\n",
        "\n",
        "vectorizer = CountVectorizer(max_features=36)\n",
        "X_train_vec = vectorizer.fit_transform(X_train)\n",
        "X_test_vec = vectorizer.transform(X_test)\n",
        "\n",
        "nb = MultinomialNB()\n",
        "nb.fit(X_train_vec, y_train)\n",
        "\n",
        "test_score = nb.score(X_test_vec, y_test)\n",
        "train_score = nb.score(X_train_vec, y_train)\n",
        "\n",
        "print('Training score: ' + str(train_score))\n",
        "print('Testing score: ' + str(test_score))"
      ]
    },
    {
      "cell_type": "code",
      "execution_count": 130,
      "metadata": {
        "colab": {
          "base_uri": "https://localhost:8080/"
        },
        "id": "xl0Fum3g_mkv",
        "outputId": "4c555b5d-d653-4704-d7a5-d36ab2701170"
      },
      "outputs": [
        {
          "output_type": "stream",
          "name": "stdout",
          "text": [
            "(1957, 36)\n",
            "(840, 36)\n"
          ]
        }
      ],
      "source": [
        "print(X_train_vec.shape)\n",
        "print(X_test_vec.shape)"
      ]
    },
    {
      "cell_type": "markdown",
      "source": [
        "## Wrap sk model with PyTorch\n",
        "\n",
        "Comment out the other sections besides the model that you would like to export to solidity verifier"
      ],
      "metadata": {
        "id": "jYFV9oo73DmR"
      }
    },
    {
      "cell_type": "markdown",
      "source": [
        "### Logistic Regression"
      ],
      "metadata": {
        "id": "acV6k3hX3oNH"
      }
    },
    {
      "cell_type": "code",
      "source": [
        "# check if notebook is in colab\n",
        "try:\n",
        "    # install ezkl\n",
        "    import google.colab\n",
        "    import subprocess\n",
        "    import sys\n",
        "    subprocess.check_call([sys.executable, \"-m\", \"pip\", \"install\", \"sk2torch\"])\n",
        "\n",
        "# rely on local installation of ezkl if the notebook is not in colab\n",
        "except:\n",
        "    pass\n",
        "import sk2torch"
      ],
      "metadata": {
        "id": "TKcBbmtU23PH"
      },
      "execution_count": 131,
      "outputs": []
    },
    {
      "cell_type": "code",
      "source": [
        "from sklearn.linear_model import LogisticRegression\n",
        "from sklearn.preprocessing import StandardScaler\n",
        "from sklearn.pipeline import make_pipeline\n",
        "\n",
        "vectorizer = CountVectorizer(max_features=36)\n",
        "X_train_vec = vectorizer.fit_transform(X_train)\n",
        "X_test_vec = vectorizer.transform(X_test)\n",
        "\n",
        "pipe = make_pipeline(StandardScaler(with_mean=False), LogisticRegression())\n",
        "pipe.fit(X_train_vec, y_train)\n",
        "\n",
        "test_score = pipe.score(X_test_vec, y_test)\n",
        "train_score = pipe.score(X_train_vec, y_train)\n",
        "\n",
        "print('Training score: ' + str(train_score))\n",
        "print('Testing score: ' + str(test_score))"
      ],
      "metadata": {
        "colab": {
          "base_uri": "https://localhost:8080/"
        },
        "id": "5GPSf99552I9",
        "outputId": "8de75968-d3b3-4ca6-9d1f-3bd1827815b5"
      },
      "execution_count": 132,
      "outputs": [
        {
          "output_type": "stream",
          "name": "stdout",
          "text": [
            "Training score: 0.7164026571282576\n",
            "Testing score: 0.7202380952380952\n"
          ]
        }
      ]
    },
    {
      "cell_type": "markdown",
      "source": [
        "## SVM"
      ],
      "metadata": {
        "id": "gdFFMMHzk3P6"
      }
    },
    {
      "cell_type": "code",
      "source": [
        "from sklearn.svm import SVC\n",
        "\n",
        "svc = SVC()\n",
        "\n",
        "vectorizer = CountVectorizer(max_features=36)\n",
        "X_train_vec = vectorizer.fit_transform(X_train)\n",
        "X_test_vec = vectorizer.transform(X_test)\n",
        "\n",
        "dense_x_train = np.asarray(X_train_vec.todense()).astype(float)\n",
        "dense_x_test = np.asarray(X_test_vec.todense()).astype(float)\n",
        "svc.fit(dense_x_train, y_train)\n",
        "\n",
        "test_score = svc.score(dense_x_test, y_test)\n",
        "train_score = svc.score(dense_x_train, y_train)\n",
        "\n",
        "print('Training score: ' + str(train_score))\n",
        "print('Testing score: ' + str(test_score))"
      ],
      "metadata": {
        "colab": {
          "base_uri": "https://localhost:8080/"
        },
        "id": "alJo7NgtFa9L",
        "outputId": "e562edaf-b729-441e-fb33-d3990af9594a"
      },
      "execution_count": 133,
      "outputs": [
        {
          "output_type": "stream",
          "name": "stdout",
          "text": [
            "Training score: 0.7777210015329586\n",
            "Testing score: 0.7285714285714285\n"
          ]
        }
      ]
    },
    {
      "cell_type": "code",
      "source": [
        "model = sk2torch.wrap(svc)"
      ],
      "metadata": {
        "id": "Bib_XYRd51H2"
      },
      "execution_count": 134,
      "outputs": []
    },
    {
      "cell_type": "markdown",
      "source": [
        "## Export"
      ],
      "metadata": {
        "id": "6EbIrMebtI_L"
      }
    },
    {
      "cell_type": "code",
      "source": [
        "import matplotlib.pyplot as plt\n",
        "\n",
        "# export to onnx format\n",
        "# !!!!!!!!!!!!!!!!! This will flash a warning but it is fine !!!!!!!!!!!!!!!!!!!!!\n",
        "\n",
        "# Input to the model\n",
        "\n",
        "sample = np.array(dense_x_test[0].reshape(1, 36))[0]\n",
        "\n",
        "x = torch.tensor(sample, requires_grad=True).reshape(1, 36)\n",
        "\n",
        "torch_out = model.predict(x)\n",
        "# Export the model\n",
        "torch.onnx.export(model,               # model being run\n",
        "                  # model input (or a tuple for multiple inputs)\n",
        "                  x,\n",
        "                  # where to save the model (can be a file or file-like object)\n",
        "                  \"network.onnx\",\n",
        "                  export_params=True,        # store the trained parameter weights inside the model file\n",
        "                  opset_version=10,          # the ONNX version to export the model to\n",
        "                  do_constant_folding=True,  # whether to execute constant folding for optimization\n",
        "                  input_names=['input'],   # the model's input names\n",
        "                  output_names=['output'],  # the model's output names\n",
        "                  dynamic_axes={'input': {0: 'batch_size'},    # variable length axes\n",
        "                                'output': {0: 'batch_size'}})\n",
        "\n",
        "d = ((x).detach().numpy()).reshape([-1]).tolist()\n",
        "\n",
        "data = dict(input_data=[d])\n",
        "\n",
        "# Serialize data into file:\n",
        "json.dump(data, open(data_path, 'w'))\n",
        "\n",
        "# use the test set to calibrate the circuit\n",
        "cal_data = dict(input_data = dense_x_test.flatten().tolist())\n",
        "\n",
        "# Serialize calibration data into file:\n",
        "json.dump(data, open(cal_data_path, 'w'))"
      ],
      "metadata": {
        "colab": {
          "base_uri": "https://localhost:8080/"
        },
        "id": "6SqbQ05rtP5z",
        "outputId": "944aeb71-6d56-4ece-8212-e9396b20d357"
      },
      "execution_count": 135,
      "outputs": [
        {
          "output_type": "stream",
          "name": "stdout",
          "text": [
            "============= Diagnostic Run torch.onnx.export version 2.0.1+cu118 =============\n",
            "verbose: False, log level: Level.ERROR\n",
            "======================= 0 NONE 0 NOTE 0 WARNING 0 ERROR ========================\n",
            "\n"
          ]
        },
        {
          "output_type": "stream",
          "name": "stderr",
          "text": [
            "/usr/local/lib/python3.10/dist-packages/sk2torch/svc.py:193: TracerWarning: Using len to get tensor shape might cause the trace to be incorrect. Recommended usage would be tensor.shape[0]. Passing a tensor of different shape might lead to errors or silently give incorrect results.\n",
            "  votes = torch.zeros((len(x), self.n_classes)).to(kernel_out)\n",
            "/usr/local/lib/python3.10/dist-packages/sk2torch/svc.py:195: TracerWarning: Using len to get tensor shape might cause the trace to be incorrect. Recommended usage would be tensor.shape[0]. Passing a tensor of different shape might lead to errors or silently give incorrect results.\n",
            "  torch.zeros(len(x)).to(kernel_out) for i in range(self.n_classes)\n"
          ]
        }
      ]
    },
    {
      "cell_type": "code",
      "source": [
        "!RUST_LOG=trace\n",
        "res = ezkl.gen_settings(model_path, settings_path)\n",
        "assert res == True\n",
        "\n",
        "res = await ezkl.calibrate_settings(cal_data_path, model_path, settings_path, \"resources\")  # Optimize for resources\n",
        "assert res == True"
      ],
      "metadata": {
        "id": "M1DtPBcvza9t"
      },
      "execution_count": 136,
      "outputs": []
    },
    {
      "cell_type": "code",
      "source": [
        "res = ezkl.compile_model(model_path, compiled_model_path, settings_path)\n",
        "assert res == True"
      ],
      "metadata": {
        "id": "xXS98USMzr2z"
      },
      "execution_count": 137,
      "outputs": []
    },
    {
      "cell_type": "code",
      "source": [
        "res = ezkl.get_srs(srs_path, settings_path)"
      ],
      "metadata": {
        "id": "wpH_XYTgz8Ih"
      },
      "execution_count": 138,
      "outputs": []
    },
    {
      "cell_type": "code",
      "source": [
        "res = ezkl.setup(\n",
        "        compiled_model_path,\n",
        "        vk_path,\n",
        "        pk_path,\n",
        "        srs_path,\n",
        "        settings_path\n",
        "    )\n",
        "\n",
        "\n",
        "assert res == True\n",
        "assert os.path.isfile(vk_path)\n",
        "assert os.path.isfile(pk_path)\n",
        "assert os.path.isfile(settings_path)"
      ],
      "metadata": {
        "id": "mhJmxMLVz9_a"
      },
      "execution_count": 139,
      "outputs": []
    },
    {
      "cell_type": "code",
      "source": [
        "# Generate the Witness for the proof\n",
        "\n",
        "# now generate the witness file\n",
        "witness_path = os.path.join('witness.json')\n",
        "\n",
        "res = ezkl.gen_witness(data_path, compiled_model_path, witness_path, settings_path)\n",
        "assert os.path.isfile(witness_path)"
      ],
      "metadata": {
        "id": "XB_I8caL_a3Z"
      },
      "execution_count": 140,
      "outputs": []
    },
    {
      "cell_type": "code",
      "source": [
        "# Generate the proof\n",
        "\n",
        "proof_path = os.path.join('proof.json')\n",
        "\n",
        "proof = ezkl.prove(\n",
        "        witness_path,\n",
        "        compiled_model_path,\n",
        "        pk_path,\n",
        "        proof_path,\n",
        "        srs_path,\n",
        "        \"evm\",\n",
        "        \"single\",\n",
        "        settings_path\n",
        "    )\n",
        "\n",
        "print(proof)\n",
        "assert os.path.isfile(proof_path)"
      ],
      "metadata": {
        "id": "IlObQWoy_blQ",
        "colab": {
          "base_uri": "https://localhost:8080/"
        },
        "outputId": "d3da03b5-05fe-4652-dab1-389820a35fac"
      },
      "execution_count": 141,
      "outputs": [
        {
          "output_type": "stream",
          "name": "stdout",
          "text": [
            "{'instances': [[[12436184717236109307, 3962172157175319849, 7381016538464732718, 1011752739694698287]]], 'proof': '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', 'transcript_type': 'EVM'}\n"
          ]
        }
      ]
    },
    {
      "cell_type": "code",
      "source": [
        "# verify our proof\n",
        "\n",
        "res = ezkl.verify(\n",
        "        proof_path,\n",
        "        settings_path,\n",
        "        vk_path,\n",
        "        srs_path,\n",
        "    )\n",
        "\n",
        "assert res == True\n",
        "print(\"verified\")"
      ],
      "metadata": {
        "id": "FY-t3Pw1F_Cd",
        "colab": {
          "base_uri": "https://localhost:8080/"
        },
        "outputId": "8a3c1064-73c8-494d-9fbc-72dfe7665ab1"
      },
      "execution_count": 156,
      "outputs": [
        {
          "output_type": "stream",
          "name": "stdout",
          "text": [
            "verified\n"
          ]
        }
      ]
    },
    {
      "cell_type": "markdown",
      "source": [
        "### CNN"
      ],
      "metadata": {
        "id": "aRXlxhT83sxv"
      }
    },
    {
      "cell_type": "code",
      "execution_count": 143,
      "metadata": {
        "id": "ecilRxHR_Dt_"
      },
      "outputs": [],
      "source": [
        "# TODO: 1d convolution has a shape bug making it difficult\n",
        "# class NNModel(nn.Module):\n",
        "#     # define nn\n",
        "#     def __init__(self, num_channels, classes):\n",
        "#         super(NNModel, self).__init__()\n",
        "#         self.conv1 = nn.Conv1d(in_channels=num_channels, out_channels=50, kernel_size=2)\n",
        "#         self.relu1 = nn.ReLU()\n",
        "#         self.maxpool1 = nn.MaxPool1d(kernel_size=2)\n",
        "\n",
        "#         self.conv2 = nn.Conv1d(in_channels=50, out_channels=25, kernel_size=2)\n",
        "#         self.relu2 = nn.ReLU()\n",
        "#         self.maxpool2 = nn.MaxPool1d(kernel_size=2)\n",
        "\n",
        "#         self.fc1 = nn.Linear(in_features=1763, out_features=10)\n",
        "#         self.relu3 = nn.ReLU()\n",
        "\n",
        "#         self.fc2 = nn.Linear(in_features=10, out_features=classes)\n",
        "\n",
        "#     def forward(self, x):\n",
        "#         x = self.conv1(x)\n",
        "#         x = self.relu1(x)\n",
        "#         x = self.maxpool1(x)\n",
        "\n",
        "#         x = self.conv2(x)\n",
        "#         x = self.relu2(x)\n",
        "#         x = self.maxpool2(x)\n",
        "\n",
        "#         x = torch.flatten(x, 1)\n",
        "\n",
        "#         x = self.fc1(x)\n",
        "#         x = self.relu3(x)\n",
        "\n",
        "#         x = self.fc2(x)\n",
        "\n",
        "#         return x\n",
        "\n",
        "# model = NNModel(num_channels=X_train.shape[0], classes=1)"
      ]
    },
    {
      "cell_type": "markdown",
      "source": [
        "### Feedforward NN"
      ],
      "metadata": {
        "id": "V_fNFO5s3vGS"
      }
    },
    {
      "cell_type": "code",
      "execution_count": 144,
      "metadata": {
        "id": "5OZnH25Kp97I"
      },
      "outputs": [],
      "source": [
        "class Model(nn.Module):\n",
        "    # define nn\n",
        "    def __init__(self, num_channels, classes):\n",
        "        super(Model, self).__init__()\n",
        "        self.fc1 = nn.Linear(in_features=num_channels, out_features=50)\n",
        "        self.fc2 = nn.Linear(50, 50)\n",
        "        self.fc3 = nn.Linear(50, 25)\n",
        "        self.fc4 = nn.Linear(25, 25)\n",
        "        self.fc5 = nn.Linear(in_features=25, out_features=classes)\n",
        "        self.relu = nn.ReLU()\n",
        "\n",
        "    def forward(self, x):\n",
        "        x = self.fc1(x)\n",
        "        x = self.relu(x)\n",
        "\n",
        "        x = self.fc2(x)\n",
        "        x = self.relu(x)\n",
        "\n",
        "        x = self.fc3(x)\n",
        "        x = self.relu(x)\n",
        "\n",
        "        x = self.fc4(x)\n",
        "        x = self.relu(x)\n",
        "\n",
        "        x = self.fc5(x)\n",
        "        x = self.relu(x)\n",
        "\n",
        "        return x\n",
        "\n",
        "# Initialize Model\n",
        "num_channels=36\n",
        "classes = 1\n",
        "model = Model(num_channels=num_channels, classes=classes)"
      ]
    },
    {
      "cell_type": "markdown",
      "metadata": {
        "id": "DzNCDlPb-jNH"
      },
      "source": [
        "## Training a Neural Network"
      ]
    },
    {
      "cell_type": "code",
      "execution_count": 145,
      "metadata": {
        "id": "z93e4M4Y-mnc",
        "colab": {
          "base_uri": "https://localhost:8080/"
        },
        "outputId": "cff1b4ac-4b86-462f-d7d7-5dd20ebfdace"
      },
      "outputs": [
        {
          "output_type": "stream",
          "name": "stdout",
          "text": [
            "torch.Size([1957])\n"
          ]
        },
        {
          "output_type": "stream",
          "name": "stderr",
          "text": [
            "100%|██████████| 100/100 [00:00<00:00, 416.23it/s]\n"
          ]
        }
      ],
      "source": [
        "# our loss function\n",
        "loss_fn = nn.CrossEntropyLoss()\n",
        "\n",
        "# our optimizer\n",
        "optimizer = torch.optim.SGD(model.parameters(), lr=0.01)\n",
        "\n",
        "# if torch.cuda.is_available():\n",
        "#     device = torch.device(\"cuda\")\n",
        "#     model.to(device)\n",
        "#     print(\"Model moved to GPU\")\n",
        "# else:\n",
        "#     print(\"GPU is not available, using CPU instead\")\n",
        "\n",
        "# use 800 EPOCHS\n",
        "EPOCHS = 100\n",
        "\n",
        "# Convert training data to pytorch variables\n",
        "X_train_tensor = torch.from_numpy(X_train_vec.todense()).float()\n",
        "X_test_tensor = torch.from_numpy(X_test_vec.todense()).float()\n",
        "y_train_tensor = torch.from_numpy(np.array(y_train)).float()\n",
        "y_test_tensor = torch.from_numpy(np.array(y_test)).float()\n",
        "\n",
        "print(y_train_tensor.shape)\n",
        "\n",
        "loss_list     = np.zeros((EPOCHS,))\n",
        "accuracy_list = np.zeros((EPOCHS,))\n",
        "\n",
        "\n",
        "# we use tqdm for nice loading bars\n",
        "for epoch in tqdm.trange(EPOCHS):\n",
        "\n",
        "    # To train, we get a prediction from the current network\n",
        "    predicted_y = model(X_train_tensor)\n",
        "\n",
        "    # Compute the loss to see how bad or good we are doing\n",
        "    loss = loss_fn(predicted_y.squeeze(), y_train_tensor)\n",
        "\n",
        "    # Append the loss to keep track of our performance\n",
        "    loss_list[epoch] = loss.item()\n",
        "\n",
        "    # Afterwards, we will need to zero the gradients to reset\n",
        "    optimizer.zero_grad()\n",
        "    loss.backward()\n",
        "    optimizer.step()\n",
        "\n",
        "    # Calculate the accuracy, call torch.no_grad() to prevent updating gradients\n",
        "    # while calculating accuracy\n",
        "    with torch.no_grad():\n",
        "        y_pred = model(X_test_tensor)\n",
        "        correct = (torch.argmax(y_pred, dim=1) == y_test_tensor).type(torch.FloatTensor)\n",
        "        accuracy_list[epoch] = correct.mean()"
      ]
    },
    {
      "cell_type": "code",
      "execution_count": 146,
      "metadata": {
        "id": "JunhgVBErt_o",
        "colab": {
          "base_uri": "https://localhost:8080/",
          "height": 546
        },
        "outputId": "e1f51a2b-b294-47e5-e177-d5b899fd1149"
      },
      "outputs": [
        {
          "output_type": "display_data",
          "data": {
            "text/plain": [
              "<Figure size 1200x600 with 2 Axes>"
            ],
            "image/png": "[encoded data removed]"
          },
          "metadata": {}
        }
      ],
      "source": [
        "# Plot the Accuracy and Loss\n",
        "\n",
        "# import matplotlib\n",
        "import matplotlib.pyplot as plt\n",
        "\n",
        "plt.style.use('ggplot')\n",
        "\n",
        "\n",
        "fig, (ax1, ax2) = plt.subplots(2, figsize=(12, 6), sharex=True)\n",
        "\n",
        "ax1.plot(accuracy_list)\n",
        "ax1.set_ylabel(\"Accuracy\")\n",
        "ax2.plot(loss_list)\n",
        "ax2.set_ylabel(\"Loss\")\n",
        "ax2.set_xlabel(\"epochs\");"
      ]
    },
    {
      "cell_type": "code",
      "execution_count": 147,
      "metadata": {
        "id": "pOQFroxPtPOH",
        "colab": {
          "base_uri": "https://localhost:8080/"
        },
        "outputId": "6a55dd48-47f6-4aaa-ee16-c5c40811a957"
      },
      "outputs": [
        {
          "output_type": "stream",
          "name": "stdout",
          "text": [
            "============= Diagnostic Run torch.onnx.export version 2.0.1+cu118 =============\n",
            "verbose: False, log level: Level.ERROR\n",
            "======================= 0 NONE 0 NOTE 0 WARNING 0 ERROR ========================\n",
            "\n"
          ]
        }
      ],
      "source": [
        "# After training, export to onnx (network.onnx) and create a data file (input.json)\n",
        "\n",
        "# create a random input\n",
        "x = X_test_tensor[0].reshape(1, 36)\n",
        "\n",
        "# Flips the neural net into inference mode\n",
        "model.eval()\n",
        "\n",
        "# Export the model\n",
        "torch.onnx.export(model,                     # model being run\n",
        "                  x,                         # model input (or a tuple for multiple inputs)\n",
        "                  model_path,                # where to save the model (can be a file or file-like object)\n",
        "                  export_params=True,        # store the trained parameter weights inside the model file\n",
        "                  opset_version=10,          # the ONNX version to export the model to\n",
        "                  do_constant_folding=True,  # whether to execute constant folding for optimization\n",
        "                  input_names = ['input'],   # the model's input names\n",
        "                  output_names = ['output'], # the model's output names\n",
        "                  dynamic_axes={'input' : {0 : 'batch_size'},    # variable length axes\n",
        "                                'output' : {0 : 'batch_size'}})\n",
        "\n",
        "data_array = ((x).detach().numpy()).reshape([-1]).tolist()\n",
        "\n",
        "data = dict(input_data = [data_array])\n",
        "\n",
        "    # Serialize data into file:\n",
        "json.dump(data, open(data_path, 'w'))\n",
        "\n",
        "\n",
        "# use the test set to calibrate the circuit\n",
        "cal_data = dict(input_data = X_test_tensor.flatten().tolist())\n",
        "\n",
        "# Serialize calibration data into file:\n",
        "json.dump(data, open(cal_data_path, 'w'))\n"
      ]
    },
    {
      "cell_type": "code",
      "execution_count": 148,
      "metadata": {
        "id": "KLIeCJ9xtgBg"
      },
      "outputs": [],
      "source": [
        "!RUST_LOG=trace\n",
        "res = ezkl.gen_settings(model_path, settings_path)\n",
        "assert res == True\n",
        "\n",
        "res = await ezkl.calibrate_settings(cal_data_path, model_path, settings_path, \"resources\")  # Optimize for resources\n",
        "assert res == True"
      ]
    },
    {
      "cell_type": "code",
      "source": [
        "res = ezkl.compile_model(model_path, compiled_model_path, settings_path)\n",
        "assert res == True"
      ],
      "metadata": {
        "id": "Nh1CsV-Syp22"
      },
      "execution_count": 149,
      "outputs": []
    },
    {
      "cell_type": "code",
      "source": [
        "res = ezkl.get_srs(srs_path, settings_path)"
      ],
      "metadata": {
        "id": "X_2qrsXUyzF8"
      },
      "execution_count": 150,
      "outputs": []
    },
    {
      "cell_type": "code",
      "source": [
        "res = ezkl.setup(\n",
        "        compiled_model_path,\n",
        "        vk_path,\n",
        "        pk_path,\n",
        "        srs_path,\n",
        "        settings_path\n",
        "    )\n",
        "\n",
        "\n",
        "assert res == True\n",
        "assert os.path.isfile(vk_path)\n",
        "assert os.path.isfile(pk_path)\n",
        "assert os.path.isfile(settings_path)"
      ],
      "metadata": {
        "id": "vFeSzNDKy3-R"
      },
      "execution_count": 151,
      "outputs": []
    },
    {
      "cell_type": "code",
      "source": [
        "# Generate the Witness for the proof\n",
        "\n",
        "# now generate the witness file\n",
        "witness_path = os.path.join('witness.json')\n",
        "\n",
        "res = ezkl.gen_witness(data_path, compiled_model_path, witness_path, settings_path)\n",
        "assert os.path.isfile(witness_path)"
      ],
      "metadata": {
        "id": "JjpDUMhl8572"
      },
      "execution_count": 152,
      "outputs": []
    },
    {
      "cell_type": "code",
      "source": [
        "# Generate the proof\n",
        "\n",
        "proof_path = os.path.join('proof.json')\n",
        "\n",
        "proof = ezkl.prove(\n",
        "        witness_path,\n",
        "        compiled_model_path,\n",
        "        pk_path,\n",
        "        proof_path,\n",
        "        srs_path,\n",
        "        \"evm\",\n",
        "        \"single\",\n",
        "        settings_path\n",
        "    )\n",
        "\n",
        "print(proof)\n",
        "assert os.path.isfile(proof_path)"
      ],
      "metadata": {
        "id": "i6IfMrQO9LbV",
        "colab": {
          "base_uri": "https://localhost:8080/"
        },
        "outputId": "351d0c57-aca2-4501-8355-257caac253c1"
      },
      "execution_count": 153,
      "outputs": [
        {
          "output_type": "stream",
          "name": "stdout",
          "text": [
            "{'instances': [[[0, 0, 0, 0]]], 'proof': '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', 'transcript_type': 'EVM'}\n"
          ]
        }
      ]
    },
    {
      "cell_type": "code",
      "source": [
        "# verify our proof\n",
        "\n",
        "res = ezkl.verify(\n",
        "        proof_path,\n",
        "        settings_path,\n",
        "        vk_path,\n",
        "        srs_path,\n",
        "    )\n",
        "\n",
        "assert res == True\n",
        "print(\"verified\")"
      ],
      "metadata": {
        "id": "0i-P4OjI9N9g",
        "colab": {
          "base_uri": "https://localhost:8080/"
        },
        "outputId": "96023a95-bc97-4c2a-ed7b-355b93ea2995"
      },
      "execution_count": 154,
      "outputs": [
        {
          "output_type": "stream",
          "name": "stdout",
          "text": [
            "verified\n"
          ]
        }
      ]
    }
  ],
  "metadata": {
    "colab": {
      "provenance": [],
      "gpuType": "A100"
    },
    "kernelspec": {
      "display_name": "Python 3",
      "name": "python3"
    },
    "language_info": {
      "name": "python"
    },
    "accelerator": "GPU"
  },
  "nbformat": 4,
  "nbformat_minor": 0
}